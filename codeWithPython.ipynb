{
 "cells": [
  {
   "cell_type": "markdown",
   "id": "5f08c220",
   "metadata": {},
   "source": [
    "***Let's dive into Comments, Variables, and Data types***"
   ]
  },
  {
   "cell_type": "code",
   "execution_count": 5,
   "id": "e19a36dc",
   "metadata": {},
   "outputs": [
    {
     "name": "stdout",
     "output_type": "stream",
     "text": [
      "<class 'str'>\n",
      "<class 'list'>\n",
      "<class 'int'>\n",
      "<class 'float'>\n",
      "<class 'dict'>\n",
      "<class 'tuple'>\n",
      "<class 'bool'>\n",
      "<class 'set'>\n"
     ]
    }
   ],
   "source": [
    "# you can use \"#\" to comment your code out by placing it in the front. \n",
    "# you can also use it by placing at the end of your code to explain what your code will do. \n",
    "# if you have a class or function to comment out then try using three quotes in the front and at the end. This will comment out everything that is in the middle. For example: \n",
    "\"\"\" HELOOOOOOOOOOOO \"\"\"\n",
    "\n",
    "firstName = \"Jay\" #firstName is your variable holding a value, name of a person. \n",
    "\n",
    "firstName, lastName, address = \"Jay\", \"Shah\", \"100 police way, florida, nj\" #you can assing many values multiple variables. \n",
    "\n",
    "print(type(\"Hello\")) #should print str which is string. \n",
    "print(type([\"Jay\", \"Heemali\", \"Aaira\"])) #should print list \n",
    "print(type(3)) #should print int\n",
    "print(type(3.0)) #Prints float\n",
    "print(type({\"name\":\"Jay\"})) #prints dictionary \n",
    "print(type((\"Jay\", \"Shah\"))) #prints tuples\n",
    "print(type(True)) #Boolean to print true\n",
    "print(type({1, 2, 3, 4, 5})) #prints sets \n",
    "\n",
    "# I am missing some and will cover them in the following sections. \n"
   ]
  },
  {
   "cell_type": "code",
   "execution_count": 10,
   "id": "023c196d",
   "metadata": {},
   "outputs": [
    {
     "name": "stdout",
     "output_type": "stream",
     "text": [
      "6.0\n",
      "11 , 2 , 1992\n"
     ]
    }
   ],
   "source": [
    "# Let's learn about type conversions. For example, converting int to str. \n",
    "\n",
    "#let's get an output from integer into float. \n",
    "integerNumber = 3 \n",
    "floatNumber = 3.0 \n",
    "newNumber = integerNumber + floatNumber\n",
    "print(newNumber) #prints 6.0 which is float. \n",
    "\n",
    "#let's convert string into int\n",
    "BirthMonth = \"11\"\n",
    "birthDay = 2\n",
    "birthYear = 1992 \n",
    "\n",
    "print(int(BirthMonth),\",\",birthDay,\",\",birthYear)"
   ]
  },
  {
   "cell_type": "code",
   "execution_count": 12,
   "id": "71bdc308",
   "metadata": {},
   "outputs": [
    {
     "name": "stdout",
     "output_type": "stream",
     "text": [
      "10\n",
      "0\n",
      "25\n",
      "1\n",
      "3\n",
      "1\n",
      "8\n"
     ]
    }
   ],
   "source": [
    "# Let's dive into operators\n",
    "\n",
    "add = 5 + 5 \n",
    "print(add) #10\n",
    "\n",
    "sub = 5-5\n",
    "print(sub) #0\n",
    "\n",
    "multi = 5*5 \n",
    "print(multi) #25\n",
    "\n",
    "div = 5//5 \n",
    "print(div) #1\n",
    "\n",
    "floorDiv = 16//5\n",
    "print(floorDiv) #3\n",
    "\n",
    "module = 16%5\n",
    "print(module) #1\n",
    "\n",
    "power = 2**3\n",
    "print(power) #8"
   ]
  },
  {
   "cell_type": "code",
   "execution_count": 31,
   "id": "7eab0348",
   "metadata": {},
   "outputs": [
    {
     "name": "stdout",
     "output_type": "stream",
     "text": [
      "3\n",
      "1\n",
      "2\n",
      "2\n",
      "2\n",
      "False\n",
      "True\n",
      "True\n",
      "True\n",
      "True\n",
      "False\n",
      "True\n",
      "True\n"
     ]
    }
   ],
   "source": [
    "# let's dive into Assignment Operators\n",
    "\n",
    "num1 = 1\n",
    "num2 = 2 \n",
    "num1 += num2 \n",
    "print(num1) #3\n",
    "\n",
    "num1 -= num2 \n",
    "print(num1) #1\n",
    "print(num2) #2\n",
    "\n",
    "num2 //= num1\n",
    "print(num2) #2\n",
    "\n",
    "num2 *= num1\n",
    "print(num2) #2\n",
    "\n",
    "#let's now dive into comparison operators\n",
    "print(num1 > num2) #Flase\n",
    "\n",
    "print(num2 > num1) #True\n",
    "\n",
    "print(num1 == num1) #True\n",
    "\n",
    "print(num1 != num2) #True\n",
    "\n",
    "print(num1 >= num1) #True\n",
    "\n",
    "print(num2 <= num1) #False\n",
    "\n",
    "# Let's dive into logica operations = And, OR, Not \n",
    "\n",
    "print((num1 < num2) and (num2 > num1)) #True\n",
    "\n",
    "print((num1 < num2) or (num2 > num1)) #True "
   ]
  },
  {
   "cell_type": "code",
   "execution_count": 36,
   "id": "36fbd736",
   "metadata": {},
   "outputs": [
    {
     "name": "stdout",
     "output_type": "stream",
     "text": [
      "10\n",
      "20\n",
      "30\n"
     ]
    }
   ],
   "source": [
    "#Let's understand Namespace and Scope. Namespace is a collection of names. This allows us to use the same name for different variables or objects in different parts of your code, without causing any conflicts or confusion.\n",
    "\n",
    "\"\"\"At any given moment, there are at least three nested scopes.\n",
    "\n",
    "Scope of the current function which has local names\n",
    "Scope of the module which has global names\n",
    "Outermost scope which has built-in names\n",
    "When a reference is made inside a function, the name is searched in the local namespace, then in the global namespace and finally in the built-in namespace.\"\"\"\n",
    "\n",
    "#global_var is in the global namespace \n",
    "global_var = 10 \n",
    "\n",
    "def outer_function():\n",
    "    outer_var = 20 \n",
    "    \n",
    "    def inner_funtion():\n",
    "        inner_var = 30\n",
    "        print(inner_var) #Will print this third due to inner_function being in the outer_function \n",
    "        \n",
    "    print(outer_var) #Will print this second\n",
    "    \n",
    "    inner_funtion()\n",
    "    \n",
    "print(global_var) #Will print this first\n",
    "\n",
    "outer_function() #It's calling this function \n",
    "\n",
    "#print 10, 20, 30\n",
    "\n"
   ]
  },
  {
   "cell_type": "markdown",
   "id": "49f373c6",
   "metadata": {},
   "source": [
    "**Let's dive into String, String Methods and will learn the followings:**\n",
    "- Manipulate strings with string methods\n",
    "- Work with user input\n",
    "- Deal with strings of numbers\n",
    "- Format strings for printing"
   ]
  },
  {
   "cell_type": "code",
   "execution_count": 11,
   "id": "720f2e5c",
   "metadata": {},
   "outputs": [
    {
     "name": "stdout",
     "output_type": "stream",
     "text": [
      "jay shah\n",
      "I was bom in the darkest ignorance.\tMy spiritual master opened my eyes with the torch of knowledge.\n",
      "shah\n",
      "<class 'str'>\n",
      "I\n",
      "I was bom in the darkest ignorance\n",
      "70\n",
      "eye\n"
     ]
    }
   ],
   "source": [
    "#What is string? As you can see below that we are assigning first name and last name to a variables. \n",
    "firstName = \"jay\" # You can add single quote, double quote, or triple quote at the beginning and at the end of the string. \n",
    "lastName = \"shah\"\n",
    "message = \"Hello everyone, how are you?, \\\"Jay said\\\"\" #Be careful understanding this string as you can see we have included escaping that gets done by adding a blackslash. \n",
    "messageOne = \"Jay said, \\\"Don't worry\\\" people\" #This would allow anyone to add multiple quotes. \n",
    "messageTwo = \"I was bom in the darkest ignorance.\\tMy spiritual master opened my eyes with the torch of knowledge.\" #\\n would allow the rest of the text start as a new line.\n",
    "print(firstName, lastName)\n",
    "print(messageTwo)\n",
    "\n",
    "newName = \"jay:shah:patel\"\n",
    "updatedName = newName.split(\":\")[1]\n",
    "print(updatedName)\n",
    "\n",
    "#Let's see if the text is a string by using a function called type()\n",
    "print(type(firstName)) #Class should be str which is string\n",
    "\n",
    "#let's find out the total length of firstName variable: \n",
    "len(firstName)\n",
    "\n",
    "#To work with multiline strings, try using the three single or double quotations. Example: ''' ''' OR \"\"\" \"\"\" OR you can use backslash at the end of the sentence. \n",
    "story = \"I was bom in the darkest ignorance, and my spiritual master opened my eyes with the torch of knowledge. I offer my respectful obeisances unto him.\\\n",
    "When will Srlla Rupa GosvamI Prabhupada, who has established within this material world the mission to fulfill the desire of Lord Caitanya, give me shelter under his lotus feet?\"\n",
    "\n",
    "story_quote = \"\"\"I was bom in the darkest ignorance, and my spiritual master opened my eyes with the torch of knowledge. I offer my respectful obeisances unto him.\n",
    "When will Srlla Rupa GosvamI Prabhupada, who has established within this material world the mission to fulfill the desire of Lord Caitanya, give me shelter under his lotus feet?\"\"\"\n",
    "\n",
    "#let's understand indexing and slicing. In this example, we will use above story varliable. Also, you can use various operations. \n",
    "print(story[0]) #this should print a string, I\n",
    "\n",
    "print(story[0:34]) #this will print a string, \"I was bom in the darkest ignorance\"\n",
    "\n",
    "print(story.rfind(\"eye\")) #finds the substring len position which is 70.\n",
    "print(story[70:73]) #Let us use the len position of 70 to 73 which will print, eye.\n",
    "\n"
   ]
  },
  {
   "cell_type": "markdown",
   "id": "1e98daa7",
   "metadata": {},
   "source": [
    "***Let's dive little deeper into List(Array)***"
   ]
  },
  {
   "cell_type": "code",
   "execution_count": 3,
   "id": "d197658f",
   "metadata": {},
   "outputs": [
    {
     "name": "stdout",
     "output_type": "stream",
     "text": [
      "['Black', 'White', 'Brown']\n",
      "['Black', 'White', 'Brown', 'Blue']\n",
      "None\n"
     ]
    }
   ],
   "source": [
    "#To define array you can use an open bracket and closed bracket. For example: \n",
    "\n",
    "colors = [\"Black\", \"White\", \"Brown\"]\n",
    "print(colors) #Prints Black White and Brown \n",
    "\n",
    "#add a new color to the list using append\n",
    "colors.append(\"Blue\")\n",
    "print(colors) #This will print four values. \n",
    "\n",
    "#Let's order it ascending \n",
    "print(colors.sort())\n"
   ]
  },
  {
   "cell_type": "code",
   "execution_count": 6,
   "id": "ca6b483f",
   "metadata": {},
   "outputs": [
    {
     "name": "stdout",
     "output_type": "stream",
     "text": [
      "I found it\n",
      "Correct\n",
      "Now you got it\n"
     ]
    }
   ],
   "source": [
    "#Let's learn python flow control: \n",
    "\n",
    "#up first, we have if..else statement: \n",
    "\n",
    "colors = [\"Red\", \"Blue\", \"White\"]\n",
    "\n",
    "if \"Red\" in colors:\n",
    "    print(\"I found it\")\n",
    "else:\n",
    "    print(\"I did not find it\")\n",
    "    \n",
    "#Second, we have if, elif, and else statement: \n",
    "\n",
    "num = 5\n",
    "\n",
    "if 10 < num: \n",
    "    print(\"Not correct\")\n",
    "elif num == num:\n",
    "    print(\"Correct\")\n",
    "else:\n",
    "    print(\"Not correct all\")\n",
    "    \n",
    "    \n",
    "#Third, nested If.. else statements: \n",
    "\n",
    "if num == num: \n",
    "    if num < 1: \n",
    "        print(\"Damn, Still not correct\")\n",
    "    elif num > 4: \n",
    "        print(\"Now you got it\")\n",
    "else: \n",
    "    print(\"Next time\")"
   ]
  },
  {
   "cell_type": "code",
   "execution_count": 8,
   "id": "6a53ef74",
   "metadata": {},
   "outputs": [
    {
     "name": "stdout",
     "output_type": "stream",
     "text": [
      "Brown\n",
      "Blue\n",
      "Black \n",
      "i = 0, j = 0\n",
      "i = 0, j = 2\n",
      "i = 0, j = 4\n",
      "i = 0, j = 6\n",
      "i = 0, j = 8\n",
      "i = 2, j = 0\n",
      "i = 2, j = 2\n",
      "i = 2, j = 4\n",
      "i = 2, j = 6\n",
      "i = 2, j = 8\n",
      "i = 4, j = 0\n",
      "i = 4, j = 2\n",
      "i = 4, j = 4\n",
      "i = 4, j = 6\n",
      "i = 4, j = 8\n",
      "i = 6, j = 0\n",
      "i = 6, j = 2\n",
      "i = 6, j = 4\n",
      "i = 6, j = 6\n",
      "i = 6, j = 8\n",
      "i = 8, j = 0\n",
      "i = 8, j = 2\n",
      "i = 8, j = 4\n",
      "i = 8, j = 6\n",
      "i = 8, j = 8\n"
     ]
    }
   ],
   "source": [
    "#let's learn Loops: \n",
    "\n",
    "colors = [\"Brown\", \"Blue\", \"Black \"]\n",
    "for i in colors: \n",
    "    print(i)\n",
    "    \n",
    "for i in range(0, 10, 2): \n",
    "    for j in range (0, 10, 2):\n",
    "        print(f\"i = {i}, j = {j}\")"
   ]
  },
  {
   "cell_type": "code",
   "execution_count": null,
   "id": "ccf2f1f3",
   "metadata": {},
   "outputs": [],
   "source": []
  }
 ],
 "metadata": {
  "kernelspec": {
   "display_name": "Python 3",
   "language": "python",
   "name": "python3"
  },
  "language_info": {
   "codemirror_mode": {
    "name": "ipython",
    "version": 3
   },
   "file_extension": ".py",
   "mimetype": "text/x-python",
   "name": "python",
   "nbconvert_exporter": "python",
   "pygments_lexer": "ipython3",
   "version": "3.11.8"
  }
 },
 "nbformat": 4,
 "nbformat_minor": 5
}
