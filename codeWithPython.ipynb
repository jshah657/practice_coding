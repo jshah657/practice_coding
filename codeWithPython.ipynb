{
 "cells": [
  {
   "cell_type": "markdown",
   "id": "5f08c220",
   "metadata": {},
   "source": [
    "***Let's dive into Comments, Variables, and Data types***"
   ]
  },
  {
   "cell_type": "code",
   "execution_count": 12,
   "id": "e19a36dc",
   "metadata": {},
   "outputs": [
    {
     "data": {
      "text/plain": [
       "str"
      ]
     },
     "execution_count": 12,
     "metadata": {},
     "output_type": "execute_result"
    }
   ],
   "source": [
    "# you can use \"#\" to comment your code out by placing it in the front. \n",
    "# you can also use it by placing at the end of your code to explain what your code will do. \n",
    "# if you have a class or function to comment out then try using three quotes in the front and at the end. This will comment out everything that is in the middle. For example: \n",
    "\"\"\" HELOOOOOOOOOOOO \"\"\"\n",
    "\n",
    "firstName = \"Jay\" #firstName is your variable holding a value, name of a person. \n",
    "\n",
    "firstName, lastName, address = \"Jay\", \"Shah\", \"100 police way, florida, nj\" #you can assing many values multiple variables. \n",
    "\n",
    "type(\"Hello\") #should print str which is string. \n",
    "type([\"Jay\", \"Heemali\", \"Aaira\"])\n"
   ]
  },
  {
   "cell_type": "markdown",
   "id": "49f373c6",
   "metadata": {},
   "source": [
    "**Let's dive into String, String Methods and will learn the followings:**\n",
    "- Manipulate strings with string methods\n",
    "- Work with user input\n",
    "- Deal with strings of numbers\n",
    "- Format strings for printing"
   ]
  },
  {
   "cell_type": "code",
   "execution_count": 11,
   "id": "720f2e5c",
   "metadata": {},
   "outputs": [
    {
     "name": "stdout",
     "output_type": "stream",
     "text": [
      "jay shah\n",
      "I was bom in the darkest ignorance.\tMy spiritual master opened my eyes with the torch of knowledge.\n",
      "shah\n",
      "<class 'str'>\n",
      "I\n",
      "I was bom in the darkest ignorance\n",
      "70\n",
      "eye\n"
     ]
    }
   ],
   "source": [
    "#What is string? As you can see below that we are assigning first name and last name to a variables. \n",
    "firstName = \"jay\" # You can add single quote, double quote, or triple quote at the beginning and at the end of the string. \n",
    "lastName = \"shah\"\n",
    "message = \"Hello everyone, how are you?, \\\"Jay said\\\"\" #Be careful understanding this string as you can see we have included escaping that gets done by adding a blackslash. \n",
    "messageOne = \"Jay said, \\\"Don't worry\\\" people\" #This would allow anyone to add multiple quotes. \n",
    "messageTwo = \"I was bom in the darkest ignorance.\\tMy spiritual master opened my eyes with the torch of knowledge.\" #\\n would allow the rest of the text start as a new line.\n",
    "print(firstName, lastName)\n",
    "print(messageTwo)\n",
    "\n",
    "newName = \"jay:shah:patel\"\n",
    "updatedName = newName.split(\":\")[1]\n",
    "print(updatedName)\n",
    "\n",
    "#Let's see if the text is a string by using a function called type()\n",
    "print(type(firstName)) #Class should be str which is string\n",
    "\n",
    "#let's find out the total length of firstName variable: \n",
    "len(firstName)\n",
    "\n",
    "#To work with multiline strings, try using the three single or double quotations. Example: ''' ''' OR \"\"\" \"\"\" OR you can use backslash at the end of the sentence. \n",
    "story = \"I was bom in the darkest ignorance, and my spiritual master opened my eyes with the torch of knowledge. I offer my respectful obeisances unto him.\\\n",
    "When will Srlla Rupa GosvamI Prabhupada, who has established within this material world the mission to fulfill the desire of Lord Caitanya, give me shelter under his lotus feet?\"\n",
    "\n",
    "story_quote = \"\"\"I was bom in the darkest ignorance, and my spiritual master opened my eyes with the torch of knowledge. I offer my respectful obeisances unto him.\n",
    "When will Srlla Rupa GosvamI Prabhupada, who has established within this material world the mission to fulfill the desire of Lord Caitanya, give me shelter under his lotus feet?\"\"\"\n",
    "\n",
    "#let's understand indexing and slicing. In this example, we will use above story varliable. Also, you can use various operations. \n",
    "print(story[0]) #this should print a string, I\n",
    "\n",
    "print(story[0:34]) #this will print a string, \"I was bom in the darkest ignorance\"\n",
    "\n",
    "print(story.rfind(\"eye\")) #finds the substring len position which is 70.\n",
    "print(story[70:73]) #Let us use the len position of 70 to 73 which will print, eye.\n",
    "\n"
   ]
  }
 ],
 "metadata": {
  "kernelspec": {
   "display_name": "Python 3",
   "language": "python",
   "name": "python3"
  },
  "language_info": {
   "codemirror_mode": {
    "name": "ipython",
    "version": 3
   },
   "file_extension": ".py",
   "mimetype": "text/x-python",
   "name": "python",
   "nbconvert_exporter": "python",
   "pygments_lexer": "ipython3",
   "version": "3.11.8"
  }
 },
 "nbformat": 4,
 "nbformat_minor": 5
}
