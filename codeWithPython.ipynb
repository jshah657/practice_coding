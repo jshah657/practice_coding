{
 "cells": [
  {
   "cell_type": "markdown",
   "id": "ac23123c",
   "metadata": {},
   "source": [
    "### Prior to learning Python, let's start with basic understanding of computer programming and various terms\n",
    "**What is an algorithm?**\n",
    "- An algorithm is set of instructions or rules designed to solve a problem. A problem can be simple like adding two numbers or a complex one.\n",
    "\n",
    "**What is a program?**\n",
    "- Program is termed as an organized collection of instructions, which when executed perform a specific task or function. \n",
    "\n",
    "**What is an API?**\n",
    "- Is a set of rules, routines, and protocols to build software applications. Protocols can be HTTP GET, HTTP POST, HTTP PUT, HTTP DELETE, HTTP PATCH, etc. \n",
    "\n",
    "**Let's understand what Argument is?**\n",
    "- Arg or argument is a value that is passed into a command or a function. SQR is a function but the value of 4 is the argument that will be executed and the answer will be returned as 16.\n",
    "\n",
    "**What is boolean?**\n",
    "- Expression or logic expression creating a statement that gives you True or False answers. Boolean expressions use AND, OR, XOR, NOT, and NOR operators with conditional statements in programming. \n",
    "\n"
   ]
  },
  {
   "cell_type": "markdown",
   "id": "1749966b",
   "metadata": {},
   "source": [
    "**Overview of Tuples and Lists**\n",
    "- list of numbers \n",
    "- Student names enrolled in classes\n",
    "- Records in the database.\n",
    "- items in grocery list, etc. \n",
    "\n",
    "Before we dive into the coding, lets understand that tuples are immutable, meaning that they are not changeable and they are read only data. \n",
    "\n",
    "Example: Imagine in the database you have a column names like: ID, Name, age, and Job Title. However, rows like 1, Jay, 31, and Product Owner would be tuples. \n",
    "\n",
    "\n"
   ]
  },
  {
   "cell_type": "code",
   "execution_count": 1,
   "id": "c456ece7",
   "metadata": {},
   "outputs": [
    {
     "name": "stdout",
     "output_type": "stream",
     "text": [
      "(1, 'Jay', 31, 'Product Owner')\n"
     ]
    }
   ],
   "source": [
    "#tuples are in the parenthesis. \n",
    "employees = (1 ,\"Jay\", 31, \"Product Owner\")\n",
    "print(employees)\n"
   ]
  }
 ],
 "metadata": {
  "kernelspec": {
   "display_name": "Python 3",
   "language": "python",
   "name": "python3"
  },
  "language_info": {
   "codemirror_mode": {
    "name": "ipython",
    "version": 3
   },
   "file_extension": ".py",
   "mimetype": "text/x-python",
   "name": "python",
   "nbconvert_exporter": "python",
   "pygments_lexer": "ipython3",
   "version": "3.12.1"
  }
 },
 "nbformat": 4,
 "nbformat_minor": 5
}
