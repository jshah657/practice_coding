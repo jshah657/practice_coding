{
 "cells": [
  {
   "cell_type": "markdown",
   "id": "ac23123c",
   "metadata": {},
   "source": [
    "**Prior to learning Python, let's start with basic understanding of computer programming.**\n"
   ]
  }
 ],
 "metadata": {
  "language_info": {
   "name": "python"
  }
 },
 "nbformat": 4,
 "nbformat_minor": 5
}
