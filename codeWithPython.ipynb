{
 "cells": [
  {
   "cell_type": "markdown",
   "id": "ac23123c",
   "metadata": {},
   "source": [
    "### Prior to learning Python, let's start with basic understanding of computer programming and various terms\n",
    "**What is an algorithm?**\n",
    "- An algorithm is set of instructions or rules designed to solve a problem. A problem can be simple like adding two numbers or a complex one.\n",
    "\n",
    "**What is a program?**\n",
    "- Program is termed as an organized collection of instructions, which when executed perform a specific task or function. \n",
    "\n",
    "**What is an API?**\n",
    "- Is a set of rules, routines, and protocols to build software applications. Protocols can be HTTP GET, HTTP POST, HTTP PUT, HTTP DELETE, HTTP PATCH, etc. \n",
    "\n",
    "**Let's understand what Argument is?**\n",
    "- Arg or argument is a value that is passed into a command or a function. SQR is a function but the value of 4 is the argument that will be executed and the answer will be returned as 16.\n",
    "\n"
   ]
  },
  {
   "cell_type": "markdown",
   "id": "7afa165a",
   "metadata": {},
   "source": [
    "#\n",
    "\n"
   ]
  },
  {
   "cell_type": "markdown",
   "id": "1749966b",
   "metadata": {},
   "source": []
  }
 ],
 "metadata": {
  "language_info": {
   "name": "python"
  }
 },
 "nbformat": 4,
 "nbformat_minor": 5
}
