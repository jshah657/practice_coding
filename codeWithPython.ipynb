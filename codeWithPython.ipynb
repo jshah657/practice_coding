{
 "cells": [
  {
   "cell_type": "markdown",
   "id": "ac23123c",
   "metadata": {},
   "source": [
    "### Prior to learning Python, let's start with basic understanding of computer programming and various terms\n",
    "**What is an algorithm?**\n",
    "- An algorithm is set of instructions or rules designed to solve a problem. A problem can be simple like adding two numbers or a complex one.\n",
    "\n",
    "**What is a program?**\n",
    "- Program is termed as an organized collection of instructions, which when executed perform a specific task or function. \n",
    "\n",
    "**What is an API?**\n",
    "- Is a set of rules, routines, and protocols to build software applications. Protocols can be HTTP GET, HTTP POST, HTTP PUT, HTTP DELETE, HTTP PATCH, etc. \n",
    "\n",
    "**Let's understand what Argument is?**\n",
    "- Arg or argument is a value that is passed into a command or a function. SQR is a function but the value of 4 is the argument that will be executed and the answer will be returned as 16.\n",
    "\n",
    "**What is boolean?**\n",
    "- Expression or logic expression creating a statement that gives you True or False answers. Boolean expressions use AND, OR, XOR, NOT, and NOR operators with conditional statements in programming. \n",
    "\n"
   ]
  },
  {
   "cell_type": "markdown",
   "id": "49f373c6",
   "metadata": {},
   "source": [
    "**Let's start with basic Python** \n",
    "\n",
    "**First, we will dive into String and String Methods and will learn the followings:**\n",
    "- Manipulate strings with string methods\n",
    "- Work with user input\n",
    "- Deal with strings of numbers\n",
    "- Format strings for printing"
   ]
  },
  {
   "cell_type": "code",
   "execution_count": 8,
   "id": "720f2e5c",
   "metadata": {},
   "outputs": [
    {
     "name": "stdout",
     "output_type": "stream",
     "text": [
      "jay shah\n",
      "Hello everyone, how are you?, \"Jay said\"\n",
      "I was bom in the darkest ignorance, and my spiritual master opened my eyes with the torch of knowledge. I offer my respectful obeisances unto him.When will Srlla Rupa GosvamI Prabhupada, who has established within this material world the mission to fulfill the desire of Lord Caitanya, give me shelter under his lotus feet?\n",
      "I was bom in the darkest ignorance, and my spiritual master opened my eyes with the torch of knowledge. I offer my respectful obeisances unto him.\n",
      "When will Srlla Rupa GosvamI Prabhupada, who has established within this material world the mission to fulfill the desire of Lord Caitanya, give me shelter under his lotus feet?\n"
     ]
    }
   ],
   "source": [
    "#What is string? As you can see below that we are assigning first name and last name to a variables. \n",
    "firstName = \"jay\" # You can add single quote, double quote, or triple quote at the beginning and at the end of the string. \n",
    "lastName = \"shah\"\n",
    "message = \"Hello everyone, how are you?, \\\"Jay said\\\"\" #Be careful understanding this string as you can see we have included escaping that gets done by adding a blackslash. \n",
    "print(firstName, lastName)\n",
    "print(message)\n",
    "\n",
    "#Let's see if the text is a string by using a function called type()\n",
    "type(firstName) #Class should be str which is string\n",
    "\n",
    "#let's find out the total length of firstName variable: \n",
    "len(firstName)\n",
    "\n",
    "#To work with multiline strings, try using the three single or double quotations. Example: ''' ''' OR \"\"\" \"\"\" OR you can use backslash at the end of the sentence. \n",
    "story = \"I was bom in the darkest ignorance, and my spiritual master opened my eyes with the torch of knowledge. I offer my respectful obeisances unto him.\\\n",
    "When will Srlla Rupa GosvamI Prabhupada, who has established within this material world the mission to fulfill the desire of Lord Caitanya, give me shelter under his lotus feet?\"\n",
    "\n",
    "story_quote = \"\"\"I was bom in the darkest ignorance, and my spiritual master opened my eyes with the torch of knowledge. I offer my respectful obeisances unto him.\n",
    "When will Srlla Rupa GosvamI Prabhupada, who has established within this material world the mission to fulfill the desire of Lord Caitanya, give me shelter under his lotus feet?\"\"\"\n",
    "\n",
    "print(story)\n",
    "\n",
    "print(story_quote)\n",
    "\n",
    "#\n"
   ]
  }
 ],
 "metadata": {
  "kernelspec": {
   "display_name": "Python 3",
   "language": "python",
   "name": "python3"
  },
  "language_info": {
   "codemirror_mode": {
    "name": "ipython",
    "version": 3
   },
   "file_extension": ".py",
   "mimetype": "text/x-python",
   "name": "python",
   "nbconvert_exporter": "python",
   "pygments_lexer": "ipython3",
   "version": "3.11.8"
  }
 },
 "nbformat": 4,
 "nbformat_minor": 5
}
